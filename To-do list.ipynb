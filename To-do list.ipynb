{
  "nbformat": 4,
  "nbformat_minor": 0,
  "metadata": {
    "colab": {
      "provenance": [],
      "authorship_tag": "ABX9TyMfc4SFncJwdDMShS5RP/Je",
      "include_colab_link": true
    },
    "kernelspec": {
      "name": "python3",
      "display_name": "Python 3"
    },
    "language_info": {
      "name": "python"
    }
  },
  "cells": [
    {
      "cell_type": "markdown",
      "metadata": {
        "id": "view-in-github",
        "colab_type": "text"
      },
      "source": [
        "<a href=\"https://colab.research.google.com/github/Nivetha060/CODSOFT/blob/main/To-do%20list.ipynb\" target=\"_parent\"><img src=\"https://colab.research.google.com/assets/colab-badge.svg\" alt=\"Open In Colab\"/></a>"
      ]
    },
    {
      "cell_type": "code",
      "execution_count": null,
      "metadata": {
        "colab": {
          "base_uri": "https://localhost:8080/"
        },
        "id": "fLp0FoT7GPWE",
        "outputId": "4175df9a-ca94-4214-bc72-60da8ebf34c8"
      },
      "outputs": [
        {
          "output_type": "stream",
          "name": "stdout",
          "text": [
            "\n",
            "----- TO-DO LIST MENU -----\n",
            "1. Add Task\n",
            "2. View Tasks\n",
            "3. Mark Task as Completed\n",
            "4. Delete Task\n",
            "5. Exit\n"
          ]
        }
      ],
      "source": [
        "tasks = []\n",
        "\n",
        "def show_menu():\n",
        "    print(\"\\n----- TO-DO LIST MENU -----\")\n",
        "    print(\"1. Add Task\")\n",
        "    print(\"2. View Tasks\")\n",
        "    print(\"3. Mark Task as Completed\")\n",
        "    print(\"4. Delete Task\")\n",
        "    print(\"5. Exit\")\n",
        "\n",
        "def add_task():\n",
        "    task = input(\"Enter task description: \")\n",
        "    tasks.append({\"task\": task, \"completed\": False})\n",
        "    print(\"Task added!\")\n",
        "\n",
        "def view_tasks():\n",
        "    if not tasks:\n",
        "        print(\"No tasks in the list.\")\n",
        "        return\n",
        "    print(\"\\nYour Tasks:\")\n",
        "    for i, t in enumerate(tasks, 1):\n",
        "        status = \"Done ✅\" if t[\"completed\"] else \"Pending ❌\"\n",
        "        print(f\"{i}. {t['task']} [{status}]\")\n",
        "\n",
        "def mark_completed():\n",
        "    view_tasks()\n",
        "    try:\n",
        "        num = int(input(\"Enter task number to mark as completed: \"))\n",
        "        if 1 <= num <= len(tasks):\n",
        "            tasks[num - 1][\"completed\"] = True\n",
        "            print(\"Task marked as completed!\")\n",
        "        else:\n",
        "            print(\"Invalid task number.\")\n",
        "    except ValueError:\n",
        "        print(\"Please enter a valid number.\")\n",
        "\n",
        "def delete_task():\n",
        "    view_tasks()\n",
        "    try:\n",
        "        num = int(input(\"Enter task number to delete: \"))\n",
        "        if 1 <= num <= len(tasks):\n",
        "            deleted = tasks.pop(num - 1)\n",
        "            print(f\"Deleted task: {deleted['task']}\")\n",
        "        else:\n",
        "            print(\"Invalid task number.\")\n",
        "    except ValueError:\n",
        "        print(\"Please enter a valid number.\")\n",
        "\n",
        "while True:\n",
        "    show_menu()\n",
        "    choice = input(\"Choose an option (1-5): \")\n",
        "    if choice == \"1\":\n",
        "        add_task()\n",
        "    elif choice == \"2\":\n",
        "        view_tasks()\n",
        "    elif choice == \"3\":\n",
        "        mark_completed()\n",
        "    elif choice == \"4\":\n",
        "        delete_task()\n",
        "    elif choice == \"5\":\n",
        "        print(\"Goodbye! 👋\")\n",
        "        break\n",
        "    else:\n",
        "        print(\"Invalid choice, please try again.\")\n"
      ]
    }
  ]
}